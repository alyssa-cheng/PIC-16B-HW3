{
 "cells": [
  {
   "cell_type": "code",
   "execution_count": null,
   "metadata": {},
   "outputs": [],
   "source": [
    "import sqlite3\n",
    "\n",
    "def get_message_db():\n",
    "  # write some helpful comments here\n",
    "    try:\n",
    "        return message_db\n",
    "    except:\n",
    "        message_db = sqlite3.connect('messages_db.sqlite')\n",
    "        \n",
    "        cmd = \\\n",
    "        \"\"\"\n",
    "        CREATE TABLE IF NOT EXISTS messages\n",
    "        (id INTEGER, handle TEXT, message TEXT)\n",
    "        \"\"\"\n",
    "\n",
    "        cursor = message_db.cursor()\n",
    "        cursor.execute(cmd)\n",
    "        return message_db"
   ]
  }
 ],
 "metadata": {
  "kernelspec": {
   "display_name": "PIC16B",
   "language": "python",
   "name": "python3"
  },
  "language_info": {
   "name": "python",
   "version": "3.8.15 (default, Nov 24 2022, 09:04:07) \n[Clang 14.0.6 ]"
  },
  "orig_nbformat": 4,
  "vscode": {
   "interpreter": {
    "hash": "25d01a15fbad6d86f6fb173b65f372a5de5983691a6031a1cca20a416464f5ec"
   }
  }
 },
 "nbformat": 4,
 "nbformat_minor": 2
}
